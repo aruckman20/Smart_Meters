{
  "nbformat": 4,
  "nbformat_minor": 0,
  "metadata": {
    "colab": {
      "name": "Energy Consumption in 30 Min Intervals.ipynb",
      "provenance": [],
      "collapsed_sections": []
    },
    "kernelspec": {
      "name": "python3",
      "display_name": "Python 3"
    },
    "language_info": {
      "name": "python"
    }
  },
  "cells": [
    {
      "cell_type": "markdown",
      "metadata": {
        "id": "rlsQCV9bLvYO"
      },
      "source": [
        "#Data Source\n",
        "https://www.kaggle.com/jeanmidev/smart-meters-in-london"
      ]
    },
    {
      "cell_type": "code",
      "metadata": {
        "colab": {
          "base_uri": "https://localhost:8080/"
        },
        "id": "mXyuva8OGnn6",
        "outputId": "a9bfc283-818d-49c2-de84-f24487d033e3"
      },
      "source": [
        "from google.colab import drive\n",
        "from datetime import datetime\n",
        "\n",
        "drive.mount('/content/drive')"
      ],
      "execution_count": null,
      "outputs": [
        {
          "output_type": "stream",
          "text": [
            "Drive already mounted at /content/drive; to attempt to forcibly remount, call drive.mount(\"/content/drive\", force_remount=True).\n"
          ],
          "name": "stdout"
        }
      ]
    },
    {
      "cell_type": "code",
      "metadata": {
        "id": "Tn-omdJ8Ucty"
      },
      "source": [
        "#Imports\n",
        "import pandas as pd\n",
        "import os\n",
        "import glob\n",
        "import numpy as np; np.random.seed(0)\n",
        "import seaborn as sns; sns.set_theme()\n",
        "import matplotlib.pyplot as plt\n",
        "import numpy as np; np.random.seed(0)\n",
        "import seaborn as sns; sns.set_theme()\n",
        "import statsmodels.api as sm\n",
        "import pandas as pd\n",
        "from sklearn.linear_model import LinearRegression\n",
        "from sklearn.neighbors import KNeighborsRegressor\n",
        "import numpy as np\n",
        "from sklearn.model_selection import train_test_split\n",
        "from sklearn.model_selection import GridSearchCV\n",
        "from sklearn import metrics\n",
        "from sklearn import linear_model\n",
        "from sklearn import ensemble\n",
        "from numpy import random as rand\n",
        "\n",
        "#Import data\n",
        "\n",
        "# use glob to get all the csv files \n",
        "# in the folder\n",
        "#path = \"/content/drive/My Drive/Research/hhblock_dataset/\"()\n",
        "#\n",
        "\n"
      ],
      "execution_count": null,
      "outputs": []
    },
    {
      "cell_type": "code",
      "metadata": {
        "colab": {
          "base_uri": "https://localhost:8080/"
        },
        "id": "MfeyRRdqhERc",
        "outputId": "255e2b40-3045-4fe8-fd95-1af8bffb0e1a"
      },
      "source": [
        "%ls ./drive/MyDrive/Research/hhblock_dataset/"
      ],
      "execution_count": null,
      "outputs": [
        {
          "output_type": "stream",
          "text": [
            "block_0.csv    block_1.csv   block_40.csv  block_61.csv  block_82.csv\n",
            "block_100.csv  block_20.csv  block_41.csv  block_62.csv  block_83.csv\n",
            "block_101.csv  block_21.csv  block_42.csv  block_63.csv  block_84.csv\n",
            "block_102.csv  block_22.csv  block_43.csv  block_64.csv  block_85.csv\n",
            "block_103.csv  block_23.csv  block_44.csv  block_65.csv  block_86.csv\n",
            "block_104.csv  block_24.csv  block_45.csv  block_66.csv  block_87.csv\n",
            "block_105.csv  block_25.csv  block_46.csv  block_67.csv  block_88.csv\n",
            "block_106.csv  block_26.csv  block_47.csv  block_68.csv  block_89.csv\n",
            "block_107.csv  block_27.csv  block_48.csv  block_69.csv  block_8.csv\n",
            "block_108.csv  block_28.csv  block_49.csv  block_6.csv   block_90.csv\n",
            "block_109.csv  block_29.csv  block_4.csv   block_70.csv  block_91.csv\n",
            "block_10.csv   block_2.csv   block_50.csv  block_71.csv  block_92.csv\n",
            "block_110.csv  block_30.csv  block_51.csv  block_72.csv  block_93.csv\n",
            "block_111.csv  block_31.csv  block_52.csv  block_73.csv  block_94.csv\n",
            "block_11.csv   block_32.csv  block_53.csv  block_74.csv  block_95.csv\n",
            "block_12.csv   block_33.csv  block_54.csv  block_75.csv  block_96.csv\n",
            "block_13.csv   block_34.csv  block_55.csv  block_76.csv  block_97.csv\n",
            "block_14.csv   block_35.csv  block_56.csv  block_77.csv  block_98.csv\n",
            "block_15.csv   block_36.csv  block_57.csv  block_78.csv  block_99.csv\n",
            "block_16.csv   block_37.csv  block_58.csv  block_79.csv  block_9.csv\n",
            "block_17.csv   block_38.csv  block_59.csv  block_7.csv\n",
            "block_18.csv   block_39.csv  block_5.csv   block_80.csv\n",
            "block_19.csv   block_3.csv   block_60.csv  block_81.csv\n"
          ],
          "name": "stdout"
        }
      ]
    },
    {
      "cell_type": "code",
      "metadata": {
        "id": "rIorH5QOjYAn"
      },
      "source": [
        "from pprint import pprint"
      ],
      "execution_count": null,
      "outputs": []
    },
    {
      "cell_type": "code",
      "metadata": {
        "id": "xB06DQLbhoLu"
      },
      "source": [
        "path = './drive/MyDrive/Research/hhblock_dataset/'\n",
        "all_meter_days_df = pd.concat(list(pd.read_csv(path + file) for file in os.listdir(path)))"
      ],
      "execution_count": null,
      "outputs": []
    },
    {
      "cell_type": "code",
      "metadata": {
        "colab": {
          "base_uri": "https://localhost:8080/"
        },
        "id": "PHZnbo0nlMDH",
        "outputId": "4b15b798-0de4-472b-a783-8060d9d20fac"
      },
      "source": [
        "print(\"Shape\")\n",
        "pprint(all_meter_days_df.shape)"
      ],
      "execution_count": null,
      "outputs": [
        {
          "output_type": "stream",
          "text": [
            "Shape\n",
            "(3469352, 50)\n"
          ],
          "name": "stdout"
        }
      ]
    },
    {
      "cell_type": "markdown",
      "metadata": {
        "id": "5c8Vh5MhAqyQ"
      },
      "source": [
        "#Exploratory Analysis\n"
      ]
    },
    {
      "cell_type": "code",
      "metadata": {
        "colab": {
          "base_uri": "https://localhost:8080/",
          "height": 357
        },
        "id": "m2guVPZipErQ",
        "outputId": "f0caed19-bec1-4ea8-8e4b-4d8f68a050a0"
      },
      "source": [
        "pd.set_option('display.float_format', lambda x: '%.4f' % x)\n",
        "summary = all_meter_days_df.describe()\n",
        "summary"
      ],
      "execution_count": null,
      "outputs": [
        {
          "output_type": "execute_result",
          "data": {
            "text/html": [
              "<div>\n",
              "<style scoped>\n",
              "    .dataframe tbody tr th:only-of-type {\n",
              "        vertical-align: middle;\n",
              "    }\n",
              "\n",
              "    .dataframe tbody tr th {\n",
              "        vertical-align: top;\n",
              "    }\n",
              "\n",
              "    .dataframe thead th {\n",
              "        text-align: right;\n",
              "    }\n",
              "</style>\n",
              "<table border=\"1\" class=\"dataframe\">\n",
              "  <thead>\n",
              "    <tr style=\"text-align: right;\">\n",
              "      <th></th>\n",
              "      <th>hh_0</th>\n",
              "      <th>hh_1</th>\n",
              "      <th>hh_2</th>\n",
              "      <th>hh_3</th>\n",
              "      <th>hh_4</th>\n",
              "      <th>hh_5</th>\n",
              "      <th>hh_6</th>\n",
              "      <th>hh_7</th>\n",
              "      <th>hh_8</th>\n",
              "      <th>hh_9</th>\n",
              "      <th>hh_10</th>\n",
              "      <th>hh_11</th>\n",
              "      <th>hh_12</th>\n",
              "      <th>hh_13</th>\n",
              "      <th>hh_14</th>\n",
              "      <th>hh_15</th>\n",
              "      <th>hh_16</th>\n",
              "      <th>hh_17</th>\n",
              "      <th>hh_18</th>\n",
              "      <th>hh_19</th>\n",
              "      <th>hh_20</th>\n",
              "      <th>hh_21</th>\n",
              "      <th>hh_22</th>\n",
              "      <th>hh_23</th>\n",
              "      <th>hh_24</th>\n",
              "      <th>hh_25</th>\n",
              "      <th>hh_26</th>\n",
              "      <th>hh_27</th>\n",
              "      <th>hh_28</th>\n",
              "      <th>hh_29</th>\n",
              "      <th>hh_30</th>\n",
              "      <th>hh_31</th>\n",
              "      <th>hh_32</th>\n",
              "      <th>hh_33</th>\n",
              "      <th>hh_34</th>\n",
              "      <th>hh_35</th>\n",
              "      <th>hh_36</th>\n",
              "      <th>hh_37</th>\n",
              "      <th>hh_38</th>\n",
              "      <th>hh_39</th>\n",
              "      <th>hh_40</th>\n",
              "      <th>hh_41</th>\n",
              "      <th>hh_42</th>\n",
              "      <th>hh_43</th>\n",
              "      <th>hh_44</th>\n",
              "      <th>hh_45</th>\n",
              "      <th>hh_46</th>\n",
              "      <th>hh_47</th>\n",
              "    </tr>\n",
              "  </thead>\n",
              "  <tbody>\n",
              "    <tr>\n",
              "      <th>count</th>\n",
              "      <td>3469352.0000</td>\n",
              "      <td>3469352.0000</td>\n",
              "      <td>3469352.0000</td>\n",
              "      <td>3469352.0000</td>\n",
              "      <td>3469352.0000</td>\n",
              "      <td>3469352.0000</td>\n",
              "      <td>3469352.0000</td>\n",
              "      <td>3469352.0000</td>\n",
              "      <td>3469352.0000</td>\n",
              "      <td>3469352.0000</td>\n",
              "      <td>3469352.0000</td>\n",
              "      <td>3469352.0000</td>\n",
              "      <td>3469352.0000</td>\n",
              "      <td>3469352.0000</td>\n",
              "      <td>3469352.0000</td>\n",
              "      <td>3469352.0000</td>\n",
              "      <td>3469352.0000</td>\n",
              "      <td>3469352.0000</td>\n",
              "      <td>3469352.0000</td>\n",
              "      <td>3469350.0000</td>\n",
              "      <td>3469352.0000</td>\n",
              "      <td>3469352.0000</td>\n",
              "      <td>3469352.0000</td>\n",
              "      <td>3469352.0000</td>\n",
              "      <td>3469352.0000</td>\n",
              "      <td>3469331.0000</td>\n",
              "      <td>3469350.0000</td>\n",
              "      <td>3469352.0000</td>\n",
              "      <td>3469352.0000</td>\n",
              "      <td>3469352.0000</td>\n",
              "      <td>3463892.0000</td>\n",
              "      <td>3469352.0000</td>\n",
              "      <td>3469352.0000</td>\n",
              "      <td>3469352.0000</td>\n",
              "      <td>3469352.0000</td>\n",
              "      <td>3469352.0000</td>\n",
              "      <td>3469351.0000</td>\n",
              "      <td>3469352.0000</td>\n",
              "      <td>3469352.0000</td>\n",
              "      <td>3469352.0000</td>\n",
              "      <td>3469352.0000</td>\n",
              "      <td>3469352.0000</td>\n",
              "      <td>3469352.0000</td>\n",
              "      <td>3469352.0000</td>\n",
              "      <td>3469352.0000</td>\n",
              "      <td>3469352.0000</td>\n",
              "      <td>3469352.0000</td>\n",
              "      <td>3469352.0000</td>\n",
              "    </tr>\n",
              "    <tr>\n",
              "      <th>mean</th>\n",
              "      <td>0.1793</td>\n",
              "      <td>0.1693</td>\n",
              "      <td>0.1520</td>\n",
              "      <td>0.1381</td>\n",
              "      <td>0.1279</td>\n",
              "      <td>0.1217</td>\n",
              "      <td>0.1171</td>\n",
              "      <td>0.1143</td>\n",
              "      <td>0.1133</td>\n",
              "      <td>0.1158</td>\n",
              "      <td>0.1200</td>\n",
              "      <td>0.1315</td>\n",
              "      <td>0.1467</td>\n",
              "      <td>0.1678</td>\n",
              "      <td>0.1848</td>\n",
              "      <td>0.2006</td>\n",
              "      <td>0.2106</td>\n",
              "      <td>0.2163</td>\n",
              "      <td>0.2160</td>\n",
              "      <td>0.2155</td>\n",
              "      <td>0.2144</td>\n",
              "      <td>0.2135</td>\n",
              "      <td>0.2135</td>\n",
              "      <td>0.2148</td>\n",
              "      <td>0.2158</td>\n",
              "      <td>0.2170</td>\n",
              "      <td>0.2155</td>\n",
              "      <td>0.2132</td>\n",
              "      <td>0.2108</td>\n",
              "      <td>0.2103</td>\n",
              "      <td>0.2124</td>\n",
              "      <td>0.2200</td>\n",
              "      <td>0.2319</td>\n",
              "      <td>0.2509</td>\n",
              "      <td>0.2703</td>\n",
              "      <td>0.2922</td>\n",
              "      <td>0.3061</td>\n",
              "      <td>0.3180</td>\n",
              "      <td>0.3210</td>\n",
              "      <td>0.3208</td>\n",
              "      <td>0.3158</td>\n",
              "      <td>0.3099</td>\n",
              "      <td>0.3001</td>\n",
              "      <td>0.2877</td>\n",
              "      <td>0.2663</td>\n",
              "      <td>0.2422</td>\n",
              "      <td>0.2144</td>\n",
              "      <td>0.1872</td>\n",
              "    </tr>\n",
              "    <tr>\n",
              "      <th>std</th>\n",
              "      <td>0.3088</td>\n",
              "      <td>0.3291</td>\n",
              "      <td>0.2980</td>\n",
              "      <td>0.2655</td>\n",
              "      <td>0.2373</td>\n",
              "      <td>0.2197</td>\n",
              "      <td>0.2076</td>\n",
              "      <td>0.1968</td>\n",
              "      <td>0.1903</td>\n",
              "      <td>0.1921</td>\n",
              "      <td>0.1937</td>\n",
              "      <td>0.2079</td>\n",
              "      <td>0.2250</td>\n",
              "      <td>0.2469</td>\n",
              "      <td>0.2633</td>\n",
              "      <td>0.2763</td>\n",
              "      <td>0.2880</td>\n",
              "      <td>0.2945</td>\n",
              "      <td>0.2962</td>\n",
              "      <td>0.2958</td>\n",
              "      <td>0.2973</td>\n",
              "      <td>0.2969</td>\n",
              "      <td>0.2984</td>\n",
              "      <td>0.2983</td>\n",
              "      <td>0.2984</td>\n",
              "      <td>0.2985</td>\n",
              "      <td>0.2961</td>\n",
              "      <td>0.2925</td>\n",
              "      <td>0.2896</td>\n",
              "      <td>0.2872</td>\n",
              "      <td>0.2858</td>\n",
              "      <td>0.2916</td>\n",
              "      <td>0.3015</td>\n",
              "      <td>0.3185</td>\n",
              "      <td>0.3345</td>\n",
              "      <td>0.3525</td>\n",
              "      <td>0.3616</td>\n",
              "      <td>0.3689</td>\n",
              "      <td>0.3681</td>\n",
              "      <td>0.3630</td>\n",
              "      <td>0.3522</td>\n",
              "      <td>0.3424</td>\n",
              "      <td>0.3301</td>\n",
              "      <td>0.3190</td>\n",
              "      <td>0.3028</td>\n",
              "      <td>0.2850</td>\n",
              "      <td>0.2649</td>\n",
              "      <td>0.2419</td>\n",
              "    </tr>\n",
              "    <tr>\n",
              "      <th>min</th>\n",
              "      <td>0.0000</td>\n",
              "      <td>0.0000</td>\n",
              "      <td>0.0000</td>\n",
              "      <td>0.0000</td>\n",
              "      <td>0.0000</td>\n",
              "      <td>0.0000</td>\n",
              "      <td>0.0000</td>\n",
              "      <td>0.0000</td>\n",
              "      <td>0.0000</td>\n",
              "      <td>0.0000</td>\n",
              "      <td>0.0000</td>\n",
              "      <td>0.0000</td>\n",
              "      <td>0.0000</td>\n",
              "      <td>0.0000</td>\n",
              "      <td>0.0000</td>\n",
              "      <td>0.0000</td>\n",
              "      <td>0.0000</td>\n",
              "      <td>0.0000</td>\n",
              "      <td>0.0000</td>\n",
              "      <td>0.0000</td>\n",
              "      <td>0.0000</td>\n",
              "      <td>0.0000</td>\n",
              "      <td>0.0000</td>\n",
              "      <td>0.0000</td>\n",
              "      <td>0.0000</td>\n",
              "      <td>0.0000</td>\n",
              "      <td>0.0000</td>\n",
              "      <td>0.0000</td>\n",
              "      <td>0.0000</td>\n",
              "      <td>0.0000</td>\n",
              "      <td>0.0000</td>\n",
              "      <td>0.0000</td>\n",
              "      <td>0.0000</td>\n",
              "      <td>0.0000</td>\n",
              "      <td>0.0000</td>\n",
              "      <td>0.0000</td>\n",
              "      <td>0.0000</td>\n",
              "      <td>0.0000</td>\n",
              "      <td>0.0000</td>\n",
              "      <td>0.0000</td>\n",
              "      <td>0.0000</td>\n",
              "      <td>0.0000</td>\n",
              "      <td>0.0000</td>\n",
              "      <td>0.0000</td>\n",
              "      <td>0.0000</td>\n",
              "      <td>0.0000</td>\n",
              "      <td>0.0000</td>\n",
              "      <td>0.0000</td>\n",
              "    </tr>\n",
              "    <tr>\n",
              "      <th>25%</th>\n",
              "      <td>0.0520</td>\n",
              "      <td>0.0480</td>\n",
              "      <td>0.0460</td>\n",
              "      <td>0.0440</td>\n",
              "      <td>0.0420</td>\n",
              "      <td>0.0420</td>\n",
              "      <td>0.0410</td>\n",
              "      <td>0.0410</td>\n",
              "      <td>0.0400</td>\n",
              "      <td>0.0410</td>\n",
              "      <td>0.0410</td>\n",
              "      <td>0.0430</td>\n",
              "      <td>0.0460</td>\n",
              "      <td>0.0500</td>\n",
              "      <td>0.0550</td>\n",
              "      <td>0.0590</td>\n",
              "      <td>0.0610</td>\n",
              "      <td>0.0620</td>\n",
              "      <td>0.0610</td>\n",
              "      <td>0.0600</td>\n",
              "      <td>0.0590</td>\n",
              "      <td>0.0580</td>\n",
              "      <td>0.0580</td>\n",
              "      <td>0.0580</td>\n",
              "      <td>0.0580</td>\n",
              "      <td>0.0590</td>\n",
              "      <td>0.0590</td>\n",
              "      <td>0.0590</td>\n",
              "      <td>0.0590</td>\n",
              "      <td>0.0600</td>\n",
              "      <td>0.0610</td>\n",
              "      <td>0.0630</td>\n",
              "      <td>0.0670</td>\n",
              "      <td>0.0720</td>\n",
              "      <td>0.0780</td>\n",
              "      <td>0.0850</td>\n",
              "      <td>0.0910</td>\n",
              "      <td>0.0970</td>\n",
              "      <td>0.1010</td>\n",
              "      <td>0.1050</td>\n",
              "      <td>0.1080</td>\n",
              "      <td>0.1090</td>\n",
              "      <td>0.1080</td>\n",
              "      <td>0.1030</td>\n",
              "      <td>0.0920</td>\n",
              "      <td>0.0790</td>\n",
              "      <td>0.0670</td>\n",
              "      <td>0.0580</td>\n",
              "    </tr>\n",
              "    <tr>\n",
              "      <th>50%</th>\n",
              "      <td>0.0980</td>\n",
              "      <td>0.0880</td>\n",
              "      <td>0.0810</td>\n",
              "      <td>0.0770</td>\n",
              "      <td>0.0740</td>\n",
              "      <td>0.0720</td>\n",
              "      <td>0.0710</td>\n",
              "      <td>0.0700</td>\n",
              "      <td>0.0700</td>\n",
              "      <td>0.0710</td>\n",
              "      <td>0.0720</td>\n",
              "      <td>0.0770</td>\n",
              "      <td>0.0840</td>\n",
              "      <td>0.0950</td>\n",
              "      <td>0.1060</td>\n",
              "      <td>0.1150</td>\n",
              "      <td>0.1210</td>\n",
              "      <td>0.1240</td>\n",
              "      <td>0.1220</td>\n",
              "      <td>0.1210</td>\n",
              "      <td>0.1190</td>\n",
              "      <td>0.1170</td>\n",
              "      <td>0.1160</td>\n",
              "      <td>0.1170</td>\n",
              "      <td>0.1180</td>\n",
              "      <td>0.1200</td>\n",
              "      <td>0.1190</td>\n",
              "      <td>0.1180</td>\n",
              "      <td>0.1180</td>\n",
              "      <td>0.1190</td>\n",
              "      <td>0.1210</td>\n",
              "      <td>0.1270</td>\n",
              "      <td>0.1350</td>\n",
              "      <td>0.1470</td>\n",
              "      <td>0.1600</td>\n",
              "      <td>0.1740</td>\n",
              "      <td>0.1860</td>\n",
              "      <td>0.1950</td>\n",
              "      <td>0.2010</td>\n",
              "      <td>0.2050</td>\n",
              "      <td>0.2070</td>\n",
              "      <td>0.2070</td>\n",
              "      <td>0.2030</td>\n",
              "      <td>0.1950</td>\n",
              "      <td>0.1780</td>\n",
              "      <td>0.1580</td>\n",
              "      <td>0.1340</td>\n",
              "      <td>0.1130</td>\n",
              "    </tr>\n",
              "    <tr>\n",
              "      <th>75%</th>\n",
              "      <td>0.1910</td>\n",
              "      <td>0.1680</td>\n",
              "      <td>0.1500</td>\n",
              "      <td>0.1380</td>\n",
              "      <td>0.1300</td>\n",
              "      <td>0.1250</td>\n",
              "      <td>0.1220</td>\n",
              "      <td>0.1200</td>\n",
              "      <td>0.1190</td>\n",
              "      <td>0.1220</td>\n",
              "      <td>0.1270</td>\n",
              "      <td>0.1390</td>\n",
              "      <td>0.1570</td>\n",
              "      <td>0.1830</td>\n",
              "      <td>0.2070</td>\n",
              "      <td>0.2280</td>\n",
              "      <td>0.2400</td>\n",
              "      <td>0.2460</td>\n",
              "      <td>0.2440</td>\n",
              "      <td>0.2420</td>\n",
              "      <td>0.2390</td>\n",
              "      <td>0.2380</td>\n",
              "      <td>0.2370</td>\n",
              "      <td>0.2390</td>\n",
              "      <td>0.2400</td>\n",
              "      <td>0.2420</td>\n",
              "      <td>0.2390</td>\n",
              "      <td>0.2370</td>\n",
              "      <td>0.2340</td>\n",
              "      <td>0.2340</td>\n",
              "      <td>0.2380</td>\n",
              "      <td>0.2480</td>\n",
              "      <td>0.2650</td>\n",
              "      <td>0.2910</td>\n",
              "      <td>0.3190</td>\n",
              "      <td>0.3500</td>\n",
              "      <td>0.3710</td>\n",
              "      <td>0.3880</td>\n",
              "      <td>0.3900</td>\n",
              "      <td>0.3890</td>\n",
              "      <td>0.3820</td>\n",
              "      <td>0.3750</td>\n",
              "      <td>0.3630</td>\n",
              "      <td>0.3490</td>\n",
              "      <td>0.3230</td>\n",
              "      <td>0.2940</td>\n",
              "      <td>0.2580</td>\n",
              "      <td>0.2210</td>\n",
              "    </tr>\n",
              "    <tr>\n",
              "      <th>max</th>\n",
              "      <td>7.2720</td>\n",
              "      <td>8.7170</td>\n",
              "      <td>8.0250</td>\n",
              "      <td>8.7500</td>\n",
              "      <td>8.4140</td>\n",
              "      <td>8.5910</td>\n",
              "      <td>7.3570</td>\n",
              "      <td>7.6760</td>\n",
              "      <td>7.5810</td>\n",
              "      <td>7.5680</td>\n",
              "      <td>7.2730</td>\n",
              "      <td>7.6080</td>\n",
              "      <td>8.8920</td>\n",
              "      <td>8.8120</td>\n",
              "      <td>9.1660</td>\n",
              "      <td>8.7820</td>\n",
              "      <td>9.7100</td>\n",
              "      <td>9.6500</td>\n",
              "      <td>9.1060</td>\n",
              "      <td>9.1120</td>\n",
              "      <td>8.8480</td>\n",
              "      <td>8.1360</td>\n",
              "      <td>9.5680</td>\n",
              "      <td>7.7310</td>\n",
              "      <td>9.2940</td>\n",
              "      <td>8.1710</td>\n",
              "      <td>7.5560</td>\n",
              "      <td>8.8750</td>\n",
              "      <td>8.7970</td>\n",
              "      <td>8.6590</td>\n",
              "      <td>8.4250</td>\n",
              "      <td>8.1050</td>\n",
              "      <td>9.9440</td>\n",
              "      <td>10.5280</td>\n",
              "      <td>10.7610</td>\n",
              "      <td>8.6310</td>\n",
              "      <td>8.7020</td>\n",
              "      <td>9.6790</td>\n",
              "      <td>8.8330</td>\n",
              "      <td>9.1410</td>\n",
              "      <td>8.9980</td>\n",
              "      <td>9.1890</td>\n",
              "      <td>8.5390</td>\n",
              "      <td>9.2570</td>\n",
              "      <td>7.8190</td>\n",
              "      <td>8.0510</td>\n",
              "      <td>7.7690</td>\n",
              "      <td>8.4110</td>\n",
              "    </tr>\n",
              "  </tbody>\n",
              "</table>\n",
              "</div>"
            ],
            "text/plain": [
              "              hh_0         hh_1  ...        hh_46        hh_47\n",
              "count 3469352.0000 3469352.0000  ... 3469352.0000 3469352.0000\n",
              "mean        0.1793       0.1693  ...       0.2144       0.1872\n",
              "std         0.3088       0.3291  ...       0.2649       0.2419\n",
              "min         0.0000       0.0000  ...       0.0000       0.0000\n",
              "25%         0.0520       0.0480  ...       0.0670       0.0580\n",
              "50%         0.0980       0.0880  ...       0.1340       0.1130\n",
              "75%         0.1910       0.1680  ...       0.2580       0.2210\n",
              "max         7.2720       8.7170  ...       7.7690       8.4110\n",
              "\n",
              "[8 rows x 48 columns]"
            ]
          },
          "metadata": {},
          "execution_count": 30
        }
      ]
    },
    {
      "cell_type": "code",
      "metadata": {
        "colab": {
          "base_uri": "https://localhost:8080/",
          "height": 268
        },
        "id": "ORrxHZdbraM6",
        "outputId": "ebc5b928-a809-477a-a7e3-9e26cbf6ce65"
      },
      "source": [
        "#Median of all meters\n",
        "#Baseline of whole data frame\n",
        "series = [i for i in range(48)]\n",
        "median_by_hh = summary.iloc[5,:]\n",
        "plt.plot(series, median_by_hh.values)\n",
        "plt.show()"
      ],
      "execution_count": null,
      "outputs": [
        {
          "output_type": "display_data",
          "data": {
            "image/png": "[encoded data removed]",
            "text/plain": [
              "<Figure size 432x288 with 1 Axes>"
            ]
          },
          "metadata": {}
        }
      ]
    },
    {
      "cell_type": "code",
      "metadata": {
        "colab": {
          "base_uri": "https://localhost:8080/",
          "height": 268
        },
        "id": "oYKXvHm6CZue",
        "outputId": "9fdb9d17-68b0-4a41-c2ca-1bf76d4404f7"
      },
      "source": [
        "mean_by_hh = summary.iloc[1,:]\n",
        "plt.plot(series, mean_by_hh.values)\n",
        "plt.show()"
      ],
      "execution_count": null,
      "outputs": [
        {
          "output_type": "display_data",
          "data": {
            "image/png": "[encoded data removed]",
            "text/plain": [
              "<Figure size 432x288 with 1 Axes>"
            ]
          },
          "metadata": {}
        }
      ]
    },
    {
      "cell_type": "markdown",
      "metadata": {
        "id": "XSv62ry3RmhT"
      },
      "source": [
        "- compare each meter to the rest of the set\n",
        "- see if one meter is acting differently than the baseline\n",
        "- is one building using more energy than the others\n",
        "- maybe I could look at by day somehow\n",
        "- sum every row\n",
        "- (standardized distribution of meter outputs)\n",
        "- (mean of each meter - mean of whole set) / std dev\n",
        "- group by meter, month\n",
        "- subtract mean of each month of the baseline"
      ]
    },
    {
      "cell_type": "code",
      "metadata": {
        "colab": {
          "base_uri": "https://localhost:8080/",
          "height": 268
        },
        "id": "TmND62bMCm_G",
        "outputId": "11080da1-a218-45fd-d588-12ae6b196354"
      },
      "source": [
        "plt.hist(all_meters_df['LCLid'].value_counts())\n",
        "plt.show()"
      ],
      "execution_count": null,
      "outputs": [
        {
          "output_type": "display_data",
          "data": {
            "image/png": "[encoded data removed]",
            "text/plain": [
              "<Figure size 432x288 with 1 Axes>"
            ]
          },
          "metadata": {}
        }
      ]
    },
    {
      "cell_type": "code",
      "metadata": {
        "id": "UnkN7MRJTkdX"
      },
      "source": [
        "# each meter's average daily usage\n",
        "mean_daily_usage_by_meter = []\n",
        "\n",
        "grouped = all_meters_df.groupby('LCLid')\n",
        "for meter, meter_df in grouped:\n",
        "  meter_mean = meter_df.sum(axis=1).mean()\n",
        "  mean_daily_usage_by_meter.append(meter_mean)"
      ],
      "execution_count": null,
      "outputs": []
    },
    {
      "cell_type": "code",
      "metadata": {
        "colab": {
          "base_uri": "https://localhost:8080/",
          "height": 301
        },
        "id": "X0zr31g3VCcB",
        "outputId": "b0b9da79-52a0-45cd-d7c6-e56261122200"
      },
      "source": [
        "plt.hist(mean_daily_usage_by_meter, bins=50)\n",
        "plt.title('Distribution of Each Meter\\'s Average Daily Usage')\n",
        "plt.xlabel('average daily kwh')\n",
        "plt.ylabel('count of meters')\n",
        "plt.show()"
      ],
      "execution_count": null,
      "outputs": [
        {
          "output_type": "display_data",
          "data": {
            "image/png": "[encoded data removed]",
            "text/plain": [
              "<Figure size 432x288 with 1 Axes>"
            ]
          },
          "metadata": {}
        }
      ]
    },
    {
      "cell_type": "code",
      "metadata": {
        "colab": {
          "base_uri": "https://localhost:8080/"
        },
        "id": "QWlxzVlYXQ9V",
        "outputId": "bf43e41e-03dd-464f-d2e7-be9e80940d1f"
      },
      "source": [
        "np.array(mean_daily_usage_by_meter).max()"
      ],
      "execution_count": null,
      "outputs": [
        {
          "output_type": "execute_result",
          "data": {
            "text/plain": [
              "101.35673529922585"
            ]
          },
          "metadata": {},
          "execution_count": 36
        }
      ]
    },
    {
      "cell_type": "code",
      "metadata": {
        "id": "-7dXSdrnV7IR"
      },
      "source": [
        "# create dict of meters with average daily usage > 20\n",
        "# each meter's average daily usage\n",
        "\n",
        "# key is meter id\n",
        "# value is avg daily usage\n",
        "avg_daily_usage_by_meter = {}\n",
        "\n",
        "grouped = all_meters_df.groupby('LCLid')\n",
        "for meter, meter_df in grouped:\n",
        "  avg_daily_usage_by_meter[meter] = meter_df.sum(axis=1).mean()"
      ],
      "execution_count": null,
      "outputs": []
    },
    {
      "cell_type": "code",
      "metadata": {
        "colab": {
          "base_uri": "https://localhost:8080/",
          "height": 419
        },
        "id": "yxTaRcN6YJQM",
        "outputId": "a47e88e2-f12f-4f06-9e19-174d66293704"
      },
      "source": [
        "avg_daily_usage_by_meter_df = pd.DataFrame(avg_daily_usage_by_meter.items(), columns=['meter_id', 'avg_daily_usage'])\n",
        "avg_daily_usage_by_meter_df"
      ],
      "execution_count": null,
      "outputs": [
        {
          "output_type": "execute_result",
          "data": {
            "text/html": [
              "<div>\n",
              "<style scoped>\n",
              "    .dataframe tbody tr th:only-of-type {\n",
              "        vertical-align: middle;\n",
              "    }\n",
              "\n",
              "    .dataframe tbody tr th {\n",
              "        vertical-align: top;\n",
              "    }\n",
              "\n",
              "    .dataframe thead th {\n",
              "        text-align: right;\n",
              "    }\n",
              "</style>\n",
              "<table border=\"1\" class=\"dataframe\">\n",
              "  <thead>\n",
              "    <tr style=\"text-align: right;\">\n",
              "      <th></th>\n",
              "      <th>meter_id</th>\n",
              "      <th>avg_daily_usage</th>\n",
              "    </tr>\n",
              "  </thead>\n",
              "  <tbody>\n",
              "    <tr>\n",
              "      <th>0</th>\n",
              "      <td>MAC000002</td>\n",
              "      <td>12.0956</td>\n",
              "    </tr>\n",
              "    <tr>\n",
              "      <th>1</th>\n",
              "      <td>MAC000003</td>\n",
              "      <td>19.0462</td>\n",
              "    </tr>\n",
              "    <tr>\n",
              "      <th>2</th>\n",
              "      <td>MAC000004</td>\n",
              "      <td>1.6982</td>\n",
              "    </tr>\n",
              "    <tr>\n",
              "      <th>3</th>\n",
              "      <td>MAC000005</td>\n",
              "      <td>4.5803</td>\n",
              "    </tr>\n",
              "    <tr>\n",
              "      <th>4</th>\n",
              "      <td>MAC000006</td>\n",
              "      <td>2.8567</td>\n",
              "    </tr>\n",
              "    <tr>\n",
              "      <th>...</th>\n",
              "      <td>...</td>\n",
              "      <td>...</td>\n",
              "    </tr>\n",
              "    <tr>\n",
              "      <th>5555</th>\n",
              "      <td>MAC005561</td>\n",
              "      <td>7.3247</td>\n",
              "    </tr>\n",
              "    <tr>\n",
              "      <th>5556</th>\n",
              "      <td>MAC005562</td>\n",
              "      <td>10.4629</td>\n",
              "    </tr>\n",
              "    <tr>\n",
              "      <th>5557</th>\n",
              "      <td>MAC005564</td>\n",
              "      <td>4.0249</td>\n",
              "    </tr>\n",
              "    <tr>\n",
              "      <th>5558</th>\n",
              "      <td>MAC005566</td>\n",
              "      <td>17.4242</td>\n",
              "    </tr>\n",
              "    <tr>\n",
              "      <th>5559</th>\n",
              "      <td>MAC005567</td>\n",
              "      <td>5.2128</td>\n",
              "    </tr>\n",
              "  </tbody>\n",
              "</table>\n",
              "<p>5560 rows × 2 columns</p>\n",
              "</div>"
            ],
            "text/plain": [
              "       meter_id  avg_daily_usage\n",
              "0     MAC000002          12.0956\n",
              "1     MAC000003          19.0462\n",
              "2     MAC000004           1.6982\n",
              "3     MAC000005           4.5803\n",
              "4     MAC000006           2.8567\n",
              "...         ...              ...\n",
              "5555  MAC005561           7.3247\n",
              "5556  MAC005562          10.4629\n",
              "5557  MAC005564           4.0249\n",
              "5558  MAC005566          17.4242\n",
              "5559  MAC005567           5.2128\n",
              "\n",
              "[5560 rows x 2 columns]"
            ]
          },
          "metadata": {},
          "execution_count": 38
        }
      ]
    },
    {
      "cell_type": "code",
      "metadata": {
        "colab": {
          "base_uri": "https://localhost:8080/"
        },
        "id": "KrFD0QodY-Qh",
        "outputId": "654fc51a-7d12-4bcb-f984-05deeaa358f7"
      },
      "source": [
        "count_greater_than_20 = avg_daily_usage_by_meter_df[avg_daily_usage_by_meter_df['avg_daily_usage'] > 20].shape[0]\n",
        "count_total = avg_daily_usage_by_meter_df.shape[0]\n",
        "pct_greater_than_20 = count_greater_than_20 / count_total\n",
        "round(pct_greater_than_20, 4)"
      ],
      "execution_count": null,
      "outputs": [
        {
          "output_type": "execute_result",
          "data": {
            "text/plain": [
              "0.0777"
            ]
          },
          "metadata": {},
          "execution_count": 39
        }
      ]
    },
    {
      "cell_type": "code",
      "metadata": {
        "colab": {
          "base_uri": "https://localhost:8080/",
          "height": 297
        },
        "id": "cg1bVoBxZp-M",
        "outputId": "a3ca494a-2f62-48d4-b885-849b3a799bf0"
      },
      "source": [
        "avg_daily_usage_by_meter_df.describe()"
      ],
      "execution_count": null,
      "outputs": [
        {
          "output_type": "execute_result",
          "data": {
            "text/html": [
              "<div>\n",
              "<style scoped>\n",
              "    .dataframe tbody tr th:only-of-type {\n",
              "        vertical-align: middle;\n",
              "    }\n",
              "\n",
              "    .dataframe tbody tr th {\n",
              "        vertical-align: top;\n",
              "    }\n",
              "\n",
              "    .dataframe thead th {\n",
              "        text-align: right;\n",
              "    }\n",
              "</style>\n",
              "<table border=\"1\" class=\"dataframe\">\n",
              "  <thead>\n",
              "    <tr style=\"text-align: right;\">\n",
              "      <th></th>\n",
              "      <th>avg_daily_usage</th>\n",
              "    </tr>\n",
              "  </thead>\n",
              "  <tbody>\n",
              "    <tr>\n",
              "      <th>count</th>\n",
              "      <td>5560.0000</td>\n",
              "    </tr>\n",
              "    <tr>\n",
              "      <th>mean</th>\n",
              "      <td>10.2189</td>\n",
              "    </tr>\n",
              "    <tr>\n",
              "      <th>std</th>\n",
              "      <td>7.4965</td>\n",
              "    </tr>\n",
              "    <tr>\n",
              "      <th>min</th>\n",
              "      <td>0.0000</td>\n",
              "    </tr>\n",
              "    <tr>\n",
              "      <th>25%</th>\n",
              "      <td>5.3878</td>\n",
              "    </tr>\n",
              "    <tr>\n",
              "      <th>50%</th>\n",
              "      <td>8.3433</td>\n",
              "    </tr>\n",
              "    <tr>\n",
              "      <th>75%</th>\n",
              "      <td>12.8685</td>\n",
              "    </tr>\n",
              "    <tr>\n",
              "      <th>max</th>\n",
              "      <td>101.3567</td>\n",
              "    </tr>\n",
              "  </tbody>\n",
              "</table>\n",
              "</div>"
            ],
            "text/plain": [
              "       avg_daily_usage\n",
              "count        5560.0000\n",
              "mean           10.2189\n",
              "std             7.4965\n",
              "min             0.0000\n",
              "25%             5.3878\n",
              "50%             8.3433\n",
              "75%            12.8685\n",
              "max           101.3567"
            ]
          },
          "metadata": {},
          "execution_count": 40
        }
      ]
    },
    {
      "cell_type": "code",
      "metadata": {
        "colab": {
          "base_uri": "https://localhost:8080/"
        },
        "id": "Izc-QhLsZsqL",
        "outputId": "1f56e22b-78b0-4b56-be2a-727b534f671b"
      },
      "source": [
        "avg_daily_usage_by_meter_df['avg_daily_usage'].quantile(.20)"
      ],
      "execution_count": null,
      "outputs": [
        {
          "output_type": "execute_result",
          "data": {
            "text/plain": [
              "4.82823493950604"
            ]
          },
          "metadata": {},
          "execution_count": 41
        }
      ]
    },
    {
      "cell_type": "code",
      "metadata": {
        "colab": {
          "base_uri": "https://localhost:8080/",
          "height": 285
        },
        "id": "dq6EdBsXaIrY",
        "outputId": "9959a378-d780-49b7-9a76-447334782b1a"
      },
      "source": [
        "percentiles = [i + 1 for i in range(100)]\n",
        "percentile_values = [avg_daily_usage_by_meter_df['avg_daily_usage'].quantile(percentile*0.01) for percentile in percentiles]\n",
        "plt.plot(percentiles, percentile_values)\n",
        "plt.xlabel('percentile')\n",
        "plt.ylabel('avg daily kwh')\n",
        "plt.show()"
      ],
      "execution_count": null,
      "outputs": [
        {
          "output_type": "display_data",
          "data": {
            "image/png": "[encoded data removed]",
            "text/plain": [
              "<Figure size 432x288 with 1 Axes>"
            ]
          },
          "metadata": {}
        }
      ]
    },
    {
      "cell_type": "code",
      "metadata": {
        "colab": {
          "base_uri": "https://localhost:8080/"
        },
        "id": "gEBpchv1a8Ge",
        "outputId": "d7454f57-47ad-4efe-fdfe-c2cda0fb16a8"
      },
      "source": [
        "# who is using 101 kwh per day?\n",
        "avg_daily_usage_by_meter_df.max()"
      ],
      "execution_count": null,
      "outputs": [
        {
          "output_type": "execute_result",
          "data": {
            "text/plain": [
              "meter_id           MAC005567\n",
              "avg_daily_usage     101.3567\n",
              "dtype: object"
            ]
          },
          "metadata": {},
          "execution_count": 43
        }
      ]
    },
    {
      "cell_type": "markdown",
      "metadata": {
        "id": "b4sRJgpFAxc6"
      },
      "source": [
        "#Merging Data with informations_households"
      ]
    },
    {
      "cell_type": "code",
      "metadata": {
        "id": "zQsZLzjRAjg3"
      },
      "source": [
        "#Joining informations_households containing acorn, block, acorn-group, and meter ID\n",
        "informations_households = pd.read_csv(\"/content/drive/My Drive/Research/informations_households.csv\")"
      ],
      "execution_count": null,
      "outputs": []
    },
    {
      "cell_type": "code",
      "metadata": {
        "colab": {
          "base_uri": "https://localhost:8080/"
        },
        "id": "qSYQN6FTDq1X",
        "outputId": "ec13c037-ccf4-4f20-b179-6099def3506b"
      },
      "source": [
        "meters_usage_acorn_block = all_meter_days_df.merge(informations_households, on='LCLid', validate='m:1')\n",
        "meters_usage_acorn_block.shape"
      ],
      "execution_count": null,
      "outputs": [
        {
          "output_type": "execute_result",
          "data": {
            "text/plain": [
              "(3469352, 54)"
            ]
          },
          "metadata": {},
          "execution_count": 44
        }
      ]
    },
    {
      "cell_type": "code",
      "metadata": {
        "colab": {
          "base_uri": "https://localhost:8080/",
          "height": 329
        },
        "id": "KUDI4P2QGjR7",
        "outputId": "23b12f20-6bc5-419c-f5d1-b4c02449983c"
      },
      "source": [
        "meters_usage_acorn_block.head()"
      ],
      "execution_count": null,
      "outputs": [
        {
          "output_type": "execute_result",
          "data": {
            "text/html": [
              "<div>\n",
              "<style scoped>\n",
              "    .dataframe tbody tr th:only-of-type {\n",
              "        vertical-align: middle;\n",
              "    }\n",
              "\n",
              "    .dataframe tbody tr th {\n",
              "        vertical-align: top;\n",
              "    }\n",
              "\n",
              "    .dataframe thead th {\n",
              "        text-align: right;\n",
              "    }\n",
              "</style>\n",
              "<table border=\"1\" class=\"dataframe\">\n",
              "  <thead>\n",
              "    <tr style=\"text-align: right;\">\n",
              "      <th></th>\n",
              "      <th>LCLid</th>\n",
              "      <th>day</th>\n",
              "      <th>hh_0</th>\n",
              "      <th>hh_1</th>\n",
              "      <th>hh_2</th>\n",
              "      <th>hh_3</th>\n",
              "      <th>hh_4</th>\n",
              "      <th>hh_5</th>\n",
              "      <th>hh_6</th>\n",
              "      <th>hh_7</th>\n",
              "      <th>hh_8</th>\n",
              "      <th>hh_9</th>\n",
              "      <th>hh_10</th>\n",
              "      <th>hh_11</th>\n",
              "      <th>hh_12</th>\n",
              "      <th>hh_13</th>\n",
              "      <th>hh_14</th>\n",
              "      <th>hh_15</th>\n",
              "      <th>hh_16</th>\n",
              "      <th>hh_17</th>\n",
              "      <th>hh_18</th>\n",
              "      <th>hh_19</th>\n",
              "      <th>hh_20</th>\n",
              "      <th>hh_21</th>\n",
              "      <th>hh_22</th>\n",
              "      <th>hh_23</th>\n",
              "      <th>hh_24</th>\n",
              "      <th>hh_25</th>\n",
              "      <th>hh_26</th>\n",
              "      <th>hh_27</th>\n",
              "      <th>hh_28</th>\n",
              "      <th>hh_29</th>\n",
              "      <th>hh_30</th>\n",
              "      <th>hh_31</th>\n",
              "      <th>hh_32</th>\n",
              "      <th>hh_33</th>\n",
              "      <th>hh_34</th>\n",
              "      <th>hh_35</th>\n",
              "      <th>hh_36</th>\n",
              "      <th>hh_37</th>\n",
              "      <th>hh_38</th>\n",
              "      <th>hh_39</th>\n",
              "      <th>hh_40</th>\n",
              "      <th>hh_41</th>\n",
              "      <th>hh_42</th>\n",
              "      <th>hh_43</th>\n",
              "      <th>hh_44</th>\n",
              "      <th>hh_45</th>\n",
              "      <th>hh_46</th>\n",
              "      <th>hh_47</th>\n",
              "      <th>stdorToU</th>\n",
              "      <th>Acorn</th>\n",
              "      <th>Acorn_grouped</th>\n",
              "      <th>file</th>\n",
              "    </tr>\n",
              "  </thead>\n",
              "  <tbody>\n",
              "    <tr>\n",
              "      <th>0</th>\n",
              "      <td>MAC000002</td>\n",
              "      <td>2012-10-13</td>\n",
              "      <td>0.2630</td>\n",
              "      <td>0.2690</td>\n",
              "      <td>0.2750</td>\n",
              "      <td>0.2560</td>\n",
              "      <td>0.2110</td>\n",
              "      <td>0.1360</td>\n",
              "      <td>0.1610</td>\n",
              "      <td>0.1190</td>\n",
              "      <td>0.1670</td>\n",
              "      <td>0.1090</td>\n",
              "      <td>0.1680</td>\n",
              "      <td>0.1070</td>\n",
              "      <td>0.1660</td>\n",
              "      <td>0.1170</td>\n",
              "      <td>0.1570</td>\n",
              "      <td>0.1260</td>\n",
              "      <td>0.1460</td>\n",
              "      <td>0.1060</td>\n",
              "      <td>0.1350</td>\n",
              "      <td>0.1910</td>\n",
              "      <td>0.9150</td>\n",
              "      <td>0.9330</td>\n",
              "      <td>0.1220</td>\n",
              "      <td>0.1380</td>\n",
              "      <td>0.0760</td>\n",
              "      <td>0.1330</td>\n",
              "      <td>0.0760</td>\n",
              "      <td>0.1330</td>\n",
              "      <td>0.0850</td>\n",
              "      <td>0.2630</td>\n",
              "      <td>0.1340</td>\n",
              "      <td>0.2350</td>\n",
              "      <td>0.1240</td>\n",
              "      <td>0.1840</td>\n",
              "      <td>0.2300</td>\n",
              "      <td>0.1760</td>\n",
              "      <td>0.3880</td>\n",
              "      <td>0.2600</td>\n",
              "      <td>0.9180</td>\n",
              "      <td>0.2780</td>\n",
              "      <td>0.2670</td>\n",
              "      <td>0.2390</td>\n",
              "      <td>0.2300</td>\n",
              "      <td>0.2330</td>\n",
              "      <td>0.2350</td>\n",
              "      <td>0.1880</td>\n",
              "      <td>0.2590</td>\n",
              "      <td>0.2500</td>\n",
              "      <td>Std</td>\n",
              "      <td>ACORN-A</td>\n",
              "      <td>Affluent</td>\n",
              "      <td>block_0</td>\n",
              "    </tr>\n",
              "    <tr>\n",
              "      <th>1</th>\n",
              "      <td>MAC000002</td>\n",
              "      <td>2012-10-14</td>\n",
              "      <td>0.2620</td>\n",
              "      <td>0.1660</td>\n",
              "      <td>0.2260</td>\n",
              "      <td>0.0880</td>\n",
              "      <td>0.1260</td>\n",
              "      <td>0.0820</td>\n",
              "      <td>0.1230</td>\n",
              "      <td>0.0830</td>\n",
              "      <td>0.1200</td>\n",
              "      <td>0.0790</td>\n",
              "      <td>0.1210</td>\n",
              "      <td>0.0750</td>\n",
              "      <td>0.1240</td>\n",
              "      <td>0.0730</td>\n",
              "      <td>0.1250</td>\n",
              "      <td>0.0700</td>\n",
              "      <td>0.1300</td>\n",
              "      <td>0.1080</td>\n",
              "      <td>0.1960</td>\n",
              "      <td>0.3460</td>\n",
              "      <td>0.5240</td>\n",
              "      <td>0.0760</td>\n",
              "      <td>0.1290</td>\n",
              "      <td>0.6670</td>\n",
              "      <td>0.2300</td>\n",
              "      <td>0.2200</td>\n",
              "      <td>0.1630</td>\n",
              "      <td>0.0910</td>\n",
              "      <td>0.1700</td>\n",
              "      <td>0.1100</td>\n",
              "      <td>0.1100</td>\n",
              "      <td>0.1210</td>\n",
              "      <td>0.0990</td>\n",
              "      <td>0.1570</td>\n",
              "      <td>0.0930</td>\n",
              "      <td>0.3710</td>\n",
              "      <td>0.3860</td>\n",
              "      <td>1.0850</td>\n",
              "      <td>1.0750</td>\n",
              "      <td>0.9560</td>\n",
              "      <td>0.8210</td>\n",
              "      <td>0.7450</td>\n",
              "      <td>0.7120</td>\n",
              "      <td>0.5110</td>\n",
              "      <td>0.2310</td>\n",
              "      <td>0.2100</td>\n",
              "      <td>0.2780</td>\n",
              "      <td>0.1590</td>\n",
              "      <td>Std</td>\n",
              "      <td>ACORN-A</td>\n",
              "      <td>Affluent</td>\n",
              "      <td>block_0</td>\n",
              "    </tr>\n",
              "    <tr>\n",
              "      <th>2</th>\n",
              "      <td>MAC000002</td>\n",
              "      <td>2012-10-15</td>\n",
              "      <td>0.1920</td>\n",
              "      <td>0.0970</td>\n",
              "      <td>0.1410</td>\n",
              "      <td>0.0830</td>\n",
              "      <td>0.1320</td>\n",
              "      <td>0.0700</td>\n",
              "      <td>0.1300</td>\n",
              "      <td>0.0740</td>\n",
              "      <td>0.1240</td>\n",
              "      <td>0.0780</td>\n",
              "      <td>0.1180</td>\n",
              "      <td>0.0820</td>\n",
              "      <td>0.1120</td>\n",
              "      <td>0.0870</td>\n",
              "      <td>0.1060</td>\n",
              "      <td>0.1400</td>\n",
              "      <td>0.1200</td>\n",
              "      <td>1.0750</td>\n",
              "      <td>0.1460</td>\n",
              "      <td>0.1230</td>\n",
              "      <td>0.0820</td>\n",
              "      <td>0.1270</td>\n",
              "      <td>0.0770</td>\n",
              "      <td>0.5510</td>\n",
              "      <td>0.1490</td>\n",
              "      <td>0.1290</td>\n",
              "      <td>0.0750</td>\n",
              "      <td>0.1300</td>\n",
              "      <td>0.0750</td>\n",
              "      <td>0.1290</td>\n",
              "      <td>0.0750</td>\n",
              "      <td>0.1280</td>\n",
              "      <td>0.1660</td>\n",
              "      <td>0.1940</td>\n",
              "      <td>0.6950</td>\n",
              "      <td>0.2600</td>\n",
              "      <td>0.2270</td>\n",
              "      <td>0.2550</td>\n",
              "      <td>1.1640</td>\n",
              "      <td>0.2490</td>\n",
              "      <td>0.2250</td>\n",
              "      <td>0.2580</td>\n",
              "      <td>0.2600</td>\n",
              "      <td>0.3340</td>\n",
              "      <td>0.2990</td>\n",
              "      <td>0.2360</td>\n",
              "      <td>0.2410</td>\n",
              "      <td>0.2370</td>\n",
              "      <td>Std</td>\n",
              "      <td>ACORN-A</td>\n",
              "      <td>Affluent</td>\n",
              "      <td>block_0</td>\n",
              "    </tr>\n",
              "    <tr>\n",
              "      <th>3</th>\n",
              "      <td>MAC000002</td>\n",
              "      <td>2012-10-16</td>\n",
              "      <td>0.2370</td>\n",
              "      <td>0.2370</td>\n",
              "      <td>0.1930</td>\n",
              "      <td>0.1180</td>\n",
              "      <td>0.0980</td>\n",
              "      <td>0.1070</td>\n",
              "      <td>0.0940</td>\n",
              "      <td>0.1090</td>\n",
              "      <td>0.0910</td>\n",
              "      <td>0.1050</td>\n",
              "      <td>0.0910</td>\n",
              "      <td>0.1040</td>\n",
              "      <td>0.0920</td>\n",
              "      <td>0.1030</td>\n",
              "      <td>0.0930</td>\n",
              "      <td>0.1010</td>\n",
              "      <td>0.1440</td>\n",
              "      <td>0.1000</td>\n",
              "      <td>0.4080</td>\n",
              "      <td>0.1020</td>\n",
              "      <td>0.1000</td>\n",
              "      <td>0.1160</td>\n",
              "      <td>0.3540</td>\n",
              "      <td>0.1460</td>\n",
              "      <td>0.1900</td>\n",
              "      <td>0.9910</td>\n",
              "      <td>0.3100</td>\n",
              "      <td>0.1210</td>\n",
              "      <td>0.1130</td>\n",
              "      <td>0.0940</td>\n",
              "      <td>0.1190</td>\n",
              "      <td>0.0870</td>\n",
              "      <td>0.1300</td>\n",
              "      <td>0.2380</td>\n",
              "      <td>0.2040</td>\n",
              "      <td>0.2840</td>\n",
              "      <td>0.4470</td>\n",
              "      <td>0.2660</td>\n",
              "      <td>0.9660</td>\n",
              "      <td>0.1720</td>\n",
              "      <td>0.1920</td>\n",
              "      <td>0.2280</td>\n",
              "      <td>0.2030</td>\n",
              "      <td>0.2110</td>\n",
              "      <td>0.1880</td>\n",
              "      <td>0.2130</td>\n",
              "      <td>0.1570</td>\n",
              "      <td>0.2020</td>\n",
              "      <td>Std</td>\n",
              "      <td>ACORN-A</td>\n",
              "      <td>Affluent</td>\n",
              "      <td>block_0</td>\n",
              "    </tr>\n",
              "    <tr>\n",
              "      <th>4</th>\n",
              "      <td>MAC000002</td>\n",
              "      <td>2012-10-17</td>\n",
              "      <td>0.1570</td>\n",
              "      <td>0.2110</td>\n",
              "      <td>0.1550</td>\n",
              "      <td>0.1690</td>\n",
              "      <td>0.1010</td>\n",
              "      <td>0.1170</td>\n",
              "      <td>0.0840</td>\n",
              "      <td>0.1180</td>\n",
              "      <td>0.0800</td>\n",
              "      <td>0.1190</td>\n",
              "      <td>0.0750</td>\n",
              "      <td>0.1230</td>\n",
              "      <td>0.0710</td>\n",
              "      <td>0.1260</td>\n",
              "      <td>0.0670</td>\n",
              "      <td>0.1240</td>\n",
              "      <td>0.1180</td>\n",
              "      <td>0.1320</td>\n",
              "      <td>0.3580</td>\n",
              "      <td>0.6280</td>\n",
              "      <td>0.7840</td>\n",
              "      <td>0.6810</td>\n",
              "      <td>0.7490</td>\n",
              "      <td>0.5930</td>\n",
              "      <td>0.5020</td>\n",
              "      <td>0.1150</td>\n",
              "      <td>0.1130</td>\n",
              "      <td>0.0920</td>\n",
              "      <td>0.1240</td>\n",
              "      <td>0.0840</td>\n",
              "      <td>0.1250</td>\n",
              "      <td>0.0780</td>\n",
              "      <td>0.1360</td>\n",
              "      <td>0.2270</td>\n",
              "      <td>0.2070</td>\n",
              "      <td>0.1410</td>\n",
              "      <td>0.2580</td>\n",
              "      <td>0.2170</td>\n",
              "      <td>0.2230</td>\n",
              "      <td>0.0750</td>\n",
              "      <td>0.2300</td>\n",
              "      <td>0.2080</td>\n",
              "      <td>0.2650</td>\n",
              "      <td>0.3770</td>\n",
              "      <td>0.3270</td>\n",
              "      <td>0.2770</td>\n",
              "      <td>0.2880</td>\n",
              "      <td>0.2560</td>\n",
              "      <td>Std</td>\n",
              "      <td>ACORN-A</td>\n",
              "      <td>Affluent</td>\n",
              "      <td>block_0</td>\n",
              "    </tr>\n",
              "  </tbody>\n",
              "</table>\n",
              "</div>"
            ],
            "text/plain": [
              "       LCLid         day   hh_0   hh_1  ...  stdorToU    Acorn  Acorn_grouped     file\n",
              "0  MAC000002  2012-10-13 0.2630 0.2690  ...       Std  ACORN-A       Affluent  block_0\n",
              "1  MAC000002  2012-10-14 0.2620 0.1660  ...       Std  ACORN-A       Affluent  block_0\n",
              "2  MAC000002  2012-10-15 0.1920 0.0970  ...       Std  ACORN-A       Affluent  block_0\n",
              "3  MAC000002  2012-10-16 0.2370 0.2370  ...       Std  ACORN-A       Affluent  block_0\n",
              "4  MAC000002  2012-10-17 0.1570 0.2110  ...       Std  ACORN-A       Affluent  block_0\n",
              "\n",
              "[5 rows x 54 columns]"
            ]
          },
          "metadata": {},
          "execution_count": 45
        }
      ]
    },
    {
      "cell_type": "code",
      "metadata": {
        "id": "cRmAijpyHlse"
      },
      "source": [
        "meters_usage_acorn_block['day_total_usage'] = meters_usage_acorn_block.iloc[:,2:50].sum(axis=1)"
      ],
      "execution_count": null,
      "outputs": []
    },
    {
      "cell_type": "code",
      "metadata": {
        "colab": {
          "base_uri": "https://localhost:8080/",
          "height": 480
        },
        "id": "eUMdlE5oHEgr",
        "outputId": "2034c773-62d2-4774-c60e-f183025cb591"
      },
      "source": [
        "# if you change to barh remember to change your axis labels\n",
        "meters_usage_acorn_block.groupby('Acorn')['day_total_usage'].mean().plot.bar(title='Average Daily Usage by Acorn', ylabel='Mean Daily Usage',\n",
        "         xlabel='Acorn', figsize=(8, 6.5))\n",
        "plt.show()"
      ],
      "execution_count": null,
      "outputs": [
        {
          "output_type": "display_data",
          "data": {
            "image/png": "[encoded data removed]",
            "text/plain": [
              "<Figure size 576x468 with 1 Axes>"
            ]
          },
          "metadata": {}
        }
      ]
    },
    {
      "cell_type": "code",
      "metadata": {
        "colab": {
          "base_uri": "https://localhost:8080/",
          "height": 616
        },
        "id": "stHUgy7QJgrl",
        "outputId": "e84cd836-4440-4b1e-cbde-9c88ee75926a"
      },
      "source": [
        "meters_usage_acorn_block[['day_total_usage', 'Acorn']].boxplot(by='Acorn', grid=False, rot=60, fontsize=10, figsize=(9,7))\n",
        "plt.show()"
      ],
      "execution_count": null,
      "outputs": [
        {
          "output_type": "stream",
          "text": [
            "/usr/local/lib/python3.7/dist-packages/numpy/core/_asarray.py:83: VisibleDeprecationWarning: Creating an ndarray from ragged nested sequences (which is a list-or-tuple of lists-or-tuples-or ndarrays with different lengths or shapes) is deprecated. If you meant to do this, you must specify 'dtype=object' when creating the ndarray\n",
            "  return array(a, dtype, copy=False, order=order)\n"
          ],
          "name": "stderr"
        },
        {
          "output_type": "display_data",
          "data": {
            "image/png": "[encoded data removed]",
            "text/plain": [
              "<Figure size 648x504 with 1 Axes>"
            ]
          },
          "metadata": {}
        }
      ]
    },
    {
      "cell_type": "markdown",
      "metadata": {
        "id": "smQ8Hj43Lh-s"
      },
      "source": [
        "Need to make a violin plot\n",
        "\n",
        "How can the mean be more prominent?\n",
        "\n",
        "Importance of outliers\n",
        "\n",
        "Data is skewed right"
      ]
    },
    {
      "cell_type": "markdown",
      "metadata": {
        "id": "j8sRTRcfcVuS"
      },
      "source": [
        "#Date Stuff"
      ]
    },
    {
      "cell_type": "code",
      "metadata": {
        "colab": {
          "base_uri": "https://localhost:8080/"
        },
        "id": "WF7HNq37K70g",
        "outputId": "47dbdcd1-b244-4b35-d7b0-74831ef1afad"
      },
      "source": [
        "all_meters_df['day'].dtype"
      ],
      "execution_count": null,
      "outputs": [
        {
          "output_type": "execute_result",
          "data": {
            "text/plain": [
              "dtype('O')"
            ]
          },
          "metadata": {
            "tags": []
          },
          "execution_count": 44
        }
      ]
    },
    {
      "cell_type": "code",
      "metadata": {
        "colab": {
          "base_uri": "https://localhost:8080/"
        },
        "id": "QucuAgtpLJs-",
        "outputId": "72710a70-967d-4e52-d6a3-0da9e2b293b8"
      },
      "source": [
        "all_meters_df['day'].head()"
      ],
      "execution_count": null,
      "outputs": [
        {
          "output_type": "execute_result",
          "data": {
            "text/plain": [
              "0    2012-10-13\n",
              "1    2012-10-14\n",
              "2    2012-10-15\n",
              "3    2012-10-16\n",
              "4    2012-10-17\n",
              "Name: day, dtype: object"
            ]
          },
          "metadata": {
            "tags": []
          },
          "execution_count": 45
        }
      ]
    },
    {
      "cell_type": "code",
      "metadata": {
        "colab": {
          "base_uri": "https://localhost:8080/"
        },
        "id": "TMAqKrBycUAq",
        "outputId": "6883e44e-ec86-487f-ab42-340399336f8a"
      },
      "source": [
        "# validate that all dates follow yyyy-mm-dd pattern\n",
        "all_meters_df['day'].str.contains(r'[0-9]{4}-[0-9]{2}-[0-9]{2}').shape[0] / all_meters_df.shape[0]"
      ],
      "execution_count": null,
      "outputs": [
        {
          "output_type": "execute_result",
          "data": {
            "text/plain": [
              "1.0"
            ]
          },
          "metadata": {
            "tags": []
          },
          "execution_count": 54
        }
      ]
    },
    {
      "cell_type": "code",
      "metadata": {
        "colab": {
          "base_uri": "https://localhost:8080/"
        },
        "id": "TOZKUnxDc3rP",
        "outputId": "8281ea68-3038-4ad5-e506-ba1b373171e0"
      },
      "source": [
        "#Make a column for month\n",
        "#Extract the two month digits (index 5:7)\n",
        "def extract_month(date_string):\n",
        "  return date_string[5:7]\n",
        "\n",
        "all_meters_df['month'] = all_meters_df['day'].apply(extract_month)"
      ],
      "execution_count": null,
      "outputs": [
        {
          "output_type": "execute_result",
          "data": {
            "text/plain": [
              "0    10\n",
              "1    10\n",
              "2    10\n",
              "3    10\n",
              "4    10\n",
              "Name: month, dtype: object"
            ]
          },
          "metadata": {
            "tags": []
          },
          "execution_count": 55
        }
      ]
    },
    {
      "cell_type": "code",
      "metadata": {
        "id": "5ex_f4G4dnfW"
      },
      "source": [
        "# meter usage by month"
      ],
      "execution_count": null,
      "outputs": []
    },
    {
      "cell_type": "markdown",
      "metadata": {
        "id": "nKqE8A8ycOuz"
      },
      "source": [
        "#Scratch work"
      ]
    },
    {
      "cell_type": "code",
      "metadata": {
        "colab": {
          "base_uri": "https://localhost:8080/"
        },
        "id": "mLb6jSQlGAh5",
        "outputId": "19f0e193-b937-4bc9-97a7-ab36d34e77b9"
      },
      "source": [
        "df = pd.DataFrame([['milk',2,3],['milk',4,3],['cookies',3,6]],columns=['item','quantity', 'foo'])\n",
        "\n",
        "grouped = df.groupby('item')\n",
        "print(grouped.groups['milk'])\n",
        "for group, group_df in grouped:\n",
        "  print(group)\n",
        "  print(group_df)\n",
        "  print(group_df[['quantity','foo']].values.mean())"
      ],
      "execution_count": null,
      "outputs": [
        {
          "output_type": "stream",
          "text": [
            "Int64Index([0, 1], dtype='int64')\n"
          ],
          "name": "stdout"
        }
      ]
    },
    {
      "cell_type": "code",
      "metadata": {
        "colab": {
          "base_uri": "https://localhost:8080/",
          "height": 142
        },
        "id": "SsiVj-1dT16T",
        "outputId": "5382a235-d7c1-464b-e927-4775e8a1edcd"
      },
      "source": [
        "df = pd.DataFrame([[2,3],[4,3],[3,6]],columns=['quantity', 'foo'])\n",
        "df"
      ],
      "execution_count": null,
      "outputs": [
        {
          "output_type": "execute_result",
          "data": {
            "text/html": [
              "<div>\n",
              "<style scoped>\n",
              "    .dataframe tbody tr th:only-of-type {\n",
              "        vertical-align: middle;\n",
              "    }\n",
              "\n",
              "    .dataframe tbody tr th {\n",
              "        vertical-align: top;\n",
              "    }\n",
              "\n",
              "    .dataframe thead th {\n",
              "        text-align: right;\n",
              "    }\n",
              "</style>\n",
              "<table border=\"1\" class=\"dataframe\">\n",
              "  <thead>\n",
              "    <tr style=\"text-align: right;\">\n",
              "      <th></th>\n",
              "      <th>quantity</th>\n",
              "      <th>foo</th>\n",
              "    </tr>\n",
              "  </thead>\n",
              "  <tbody>\n",
              "    <tr>\n",
              "      <th>0</th>\n",
              "      <td>2</td>\n",
              "      <td>3</td>\n",
              "    </tr>\n",
              "    <tr>\n",
              "      <th>1</th>\n",
              "      <td>4</td>\n",
              "      <td>3</td>\n",
              "    </tr>\n",
              "    <tr>\n",
              "      <th>2</th>\n",
              "      <td>3</td>\n",
              "      <td>6</td>\n",
              "    </tr>\n",
              "  </tbody>\n",
              "</table>\n",
              "</div>"
            ],
            "text/plain": [
              "   quantity  foo\n",
              "0         2    3\n",
              "1         4    3\n",
              "2         3    6"
            ]
          },
          "metadata": {
            "tags": []
          },
          "execution_count": 16
        }
      ]
    },
    {
      "cell_type": "code",
      "metadata": {
        "colab": {
          "base_uri": "https://localhost:8080/"
        },
        "id": "TU73Ri0KT7Po",
        "outputId": "77164c72-5a36-490d-abcf-3501eb2b7c81"
      },
      "source": [
        "df.sum(axis=1)"
      ],
      "execution_count": null,
      "outputs": [
        {
          "output_type": "execute_result",
          "data": {
            "text/plain": [
              "0    5\n",
              "1    7\n",
              "2    9\n",
              "dtype: int64"
            ]
          },
          "metadata": {
            "tags": []
          },
          "execution_count": 18
        }
      ]
    }
  ]
}